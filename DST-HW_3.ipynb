{
 "cells": [
  {
   "cell_type": "markdown",
   "metadata": {},
   "source": [
    "Ответить на вопросы по датасету.\n",
    "\n",
    "**Датасет**\n",
    "\n",
    "Вопросы:\n",
    "\n",
    "- Каков процент женщин в датасете?\n",
    "- Каков процент мужчин в датасете?\n",
    "- Кто самый пожилой из расстрелянных? (ФИО и возраст)\n",
    "- Кто самый молодой из расстрелянных? (ФИО и возраст)\n",
    "- Каков средний возраст расстрелянных?\n",
    "- Где больше всего захоронений репрессированных? (с указанием количества захоронений)\n",
    "- Каков процент русских среди расстрелянных?\n",
    "- Каков процент евреев среди расстрелянных?"
   ]
  },
  {
   "cell_type": "code",
   "execution_count": 138,
   "metadata": {},
   "outputs": [],
   "source": [
    "import pandas as pd\n",
    "import numpy as np\n",
    "import re"
   ]
  },
  {
   "cell_type": "code",
   "execution_count": 139,
   "metadata": {},
   "outputs": [],
   "source": [
    "df=pd.read_csv('shot_by_soviets.csv')"
   ]
  },
  {
   "cell_type": "code",
   "execution_count": 140,
   "metadata": {},
   "outputs": [],
   "source": [
    "df=df.drop('ADDRESS_ID', axis=1).drop('APT', axis=1).drop('LINK', axis=1)"
   ]
  },
  {
   "cell_type": "code",
   "execution_count": 141,
   "metadata": {},
   "outputs": [],
   "source": [
    "def b_year(row):\n",
    "    list_ = [\n",
    "        r'род. ([0-9]{4})',\n",
    "        r'род. [0-9]{1,2}\\.[0-9]{1,2}\\.([0-9]{4})',\n",
    "        r'род. в \\w+ ([0-9]{4})'\n",
    "    ]\n",
    "    for year_str in list_:\n",
    "        result = re.findall(year_str, row)\n",
    "        if result:\n",
    "            return result[0]\n",
    "    return 0"
   ]
  },
  {
   "cell_type": "code",
   "execution_count": 142,
   "metadata": {},
   "outputs": [],
   "source": [
    "df['b_year'] = df['BIO'].apply(b_year)\n",
    "df['b_year'] = df['b_year'].astype('int64')"
   ]
  },
  {
   "cell_type": "code",
   "execution_count": 143,
   "metadata": {},
   "outputs": [],
   "source": [
    "def d_year(row):\n",
    "    result = re.findall(r'Рассстрел\\w+ [0-9]{1,2}\\.[0-9]{1,2}\\.([0-9]{4})', row)\n",
    "    if result:\n",
    "        return result[0]\n",
    "    return 0"
   ]
  },
  {
   "cell_type": "code",
   "execution_count": 144,
   "metadata": {},
   "outputs": [],
   "source": [
    "df['d_year'] = df['BIO'].apply(d_year)\n",
    "df['d_year'] = df['d_year'].astype('int64')\n",
    "df['age'] = df['d_year'] - df['b_year']\n",
    "df['age'] = df['age'].replace(1939, 0).replace(1937, 0)"
   ]
  },
  {
   "cell_type": "code",
   "execution_count": 145,
   "metadata": {},
   "outputs": [],
   "source": [
    "nat=[r'абхазец\\W', r'австриец\\W', r'австрийка\\W', r'азербайджанец\\W', r'англичанин\\W', r'араб\\W', r'армянин\\W', r'армянка\\W', r'ассириец\\W', r'афганец\\W', r'башкир\\W', r'башкирка\\W', \n",
    "r'белорус\\W', r'белоруска\\W', r'болгарин\\W', r'бурят\\W', r'венгерка\\W', r'венгр\\W', r'голландец\\W', r'грек\\W', r'грузин\\W', r'грузинка\\W', r'даргинец\\W', r'датчанин\\W', r'еврей\\W', r'еврейка\\W', r'индус\\W', \n",
    "r'иранец\\W', r'итальянец\\W', r'казах\\W', r'калмык\\W', r'караим\\W', r'караимка\\W', r'карачаевец\\W', r'карел\\W', r'китаец\\W', r'китаянка\\W', r'кореец\\W', r'кореянка\\W', r'кумык\\W', r'латгалец\\W', r'латыш\\W',\n",
    "r'латышка\\W', r'литовец\\W', r'литовка\\W', r'мадьяр\\W', r'мариец\\W', r'молдаванин\\W', r'монгол\\W', r'мордвин\\W', r'немец\\W', r'немка\\W', r'ойрат\\W', r'осетин\\W', r'перс\\W', r'полька\\W', r'поляк\\W', r'румын\\W',\n",
    "r'румынка\\W', r'русская\\W', r'русский\\W', r'серб\\W', r'словенец\\W', r'таджик\\W', r'татарин\\W', r'татарка\\W', r'турок\\W', r'тюрок\\W', r'удмурт\\W', r'узбек\\W', r'украинец\\W', r'украинка\\W', \n",
    "r'финка\\W', r'финн\\W', r'француз\\W', r'хорват\\W', r'черногорец\\W', r'чех\\W', r'чешка\\W', r'чуваш\\W', r'швед\\W', r'шведка\\W', r'швейцар\\W', r'швейцарец\\W', r'эстонец\\W', r'эстонка\\W', r'якут\\W',\n",
    "r'японец\\W', r'японка\\W']"
   ]
  },
  {
   "cell_type": "code",
   "execution_count": 146,
   "metadata": {},
   "outputs": [],
   "source": [
    "def nation(row):\n",
    "    for n in nat:\n",
    "        result = re.findall(n, row)\n",
    "        if result:\n",
    "            return result[0].strip(',').strip().strip(')').strip('.')\n",
    "    return '-'"
   ]
  },
  {
   "cell_type": "code",
   "execution_count": null,
   "metadata": {},
   "outputs": [],
   "source": [
    "df['nationality'] = df['BIO'].apply(nation)\n",
    "df['nationality'].unique()"
   ]
  },
  {
   "cell_type": "code",
   "execution_count": 148,
   "metadata": {},
   "outputs": [],
   "source": [
    "def gender(row):\n",
    "    result = re.findall(r'(?=ка)\\w+', row)\n",
    "    if result:\n",
    "        return 'ж'\n",
    "    return 'м'"
   ]
  },
  {
   "cell_type": "code",
   "execution_count": 149,
   "metadata": {},
   "outputs": [],
   "source": [
    "df['gender'] = df['nationality'].apply(gender)"
   ]
  },
  {
   "cell_type": "code",
   "execution_count": 150,
   "metadata": {},
   "outputs": [],
   "source": [
    "def burial(row):\n",
    "    result = re.findall(r'(?<=захоронения: )\\w+', row)\n",
    "    if result:\n",
    "        return result[0]\n",
    "    return 0"
   ]
  },
  {
   "cell_type": "code",
   "execution_count": 151,
   "metadata": {},
   "outputs": [],
   "source": [
    "df['burial'] = df['BIO'].apply(burial)"
   ]
  },
  {
   "cell_type": "markdown",
   "metadata": {},
   "source": [
    "- Каков процент женщин в датасете?\n",
    "- Каков процент мужчин в датасете?"
   ]
  },
  {
   "cell_type": "code",
   "execution_count": 158,
   "metadata": {},
   "outputs": [
    {
     "data": {
      "text/plain": [
       "м    11219\n",
       "ж      570\n",
       "Name: gender, dtype: int64"
      ]
     },
     "execution_count": 158,
     "metadata": {},
     "output_type": "execute_result"
    }
   ],
   "source": [
    "df['gender'].value_counts()"
   ]
  },
  {
   "cell_type": "code",
   "execution_count": 159,
   "metadata": {},
   "outputs": [
    {
     "name": "stdout",
     "output_type": "stream",
     "text": [
      "<class 'pandas.core.frame.DataFrame'>\n",
      "RangeIndex: 11789 entries, 0 to 11788\n",
      "Data columns (total 8 columns):\n",
      " #   Column       Non-Null Count  Dtype \n",
      "---  ------       --------------  ----- \n",
      " 0   NAME         11789 non-null  object\n",
      " 1   BIO          11789 non-null  object\n",
      " 2   b_year       11789 non-null  int64 \n",
      " 3   d_year       11789 non-null  int64 \n",
      " 4   age          11789 non-null  int64 \n",
      " 5   nationality  11789 non-null  object\n",
      " 6   gender       11789 non-null  object\n",
      " 7   burial       11789 non-null  object\n",
      "dtypes: int64(3), object(5)\n",
      "memory usage: 736.9+ KB\n"
     ]
    }
   ],
   "source": [
    "df.info()"
   ]
  },
  {
   "cell_type": "code",
   "execution_count": 163,
   "metadata": {},
   "outputs": [
    {
     "name": "stdout",
     "output_type": "stream",
     "text": [
      "% женщин: 4.8\n",
      "% мужчин: 95.2\n"
     ]
    }
   ],
   "source": [
    "print(f'% женщин: {round((570/11789)*100, 1)}')\n",
    "print(f'% мужчин: {round((11219/11789)*100, 1)}')"
   ]
  },
  {
   "cell_type": "markdown",
   "metadata": {},
   "source": [
    "- Кто самый пожилой из расстрелянных? (ФИО и возраст)\n",
    "- Кто самый молодой из расстрелянных? (ФИО и возраст)"
   ]
  },
  {
   "cell_type": "code",
   "execution_count": 156,
   "metadata": {},
   "outputs": [
    {
     "data": {
      "text/html": [
       "<div>\n",
       "<style scoped>\n",
       "    .dataframe tbody tr th:only-of-type {\n",
       "        vertical-align: middle;\n",
       "    }\n",
       "\n",
       "    .dataframe tbody tr th {\n",
       "        vertical-align: top;\n",
       "    }\n",
       "\n",
       "    .dataframe thead th {\n",
       "        text-align: right;\n",
       "    }\n",
       "</style>\n",
       "<table border=\"1\" class=\"dataframe\">\n",
       "  <thead>\n",
       "    <tr style=\"text-align: right;\">\n",
       "      <th></th>\n",
       "      <th>NAME</th>\n",
       "      <th>BIO</th>\n",
       "      <th>b_year</th>\n",
       "      <th>d_year</th>\n",
       "      <th>age</th>\n",
       "      <th>nationality</th>\n",
       "      <th>gender</th>\n",
       "      <th>burial</th>\n",
       "    </tr>\n",
       "  </thead>\n",
       "  <tbody>\n",
       "    <tr>\n",
       "      <th>2317</th>\n",
       "      <td>Фукс Альберт Львович</td>\n",
       "      <td>род. 1857, г. Гродно, еврей, б/п, без определе...</td>\n",
       "      <td>1857</td>\n",
       "      <td>1938</td>\n",
       "      <td>81</td>\n",
       "      <td>еврей</td>\n",
       "      <td>м</td>\n",
       "      <td>Коммунарка</td>\n",
       "    </tr>\n",
       "    <tr>\n",
       "      <th>5740</th>\n",
       "      <td>Эглит Роберт Андреевич</td>\n",
       "      <td>род. 1857, г. Рига, латыш, член ВКП(б), зам. н...</td>\n",
       "      <td>1857</td>\n",
       "      <td>1938</td>\n",
       "      <td>81</td>\n",
       "      <td>латыш</td>\n",
       "      <td>м</td>\n",
       "      <td>Коммунарка</td>\n",
       "    </tr>\n",
       "  </tbody>\n",
       "</table>\n",
       "</div>"
      ],
      "text/plain": [
       "                        NAME  \\\n",
       "2317    Фукс Альберт Львович   \n",
       "5740  Эглит Роберт Андреевич   \n",
       "\n",
       "                                                    BIO  b_year  d_year  age  \\\n",
       "2317  род. 1857, г. Гродно, еврей, б/п, без определе...    1857    1938   81   \n",
       "5740  род. 1857, г. Рига, латыш, член ВКП(б), зам. н...    1857    1938   81   \n",
       "\n",
       "     nationality gender      burial  \n",
       "2317       еврей      м  Коммунарка  \n",
       "5740       латыш      м  Коммунарка  "
      ]
     },
     "execution_count": 156,
     "metadata": {},
     "output_type": "execute_result"
    }
   ],
   "source": [
    "df['age'].max()\n",
    "df[df['age']==81]"
   ]
  },
  {
   "cell_type": "code",
   "execution_count": 153,
   "metadata": {},
   "outputs": [
    {
     "data": {
      "text/html": [
       "<div>\n",
       "<style scoped>\n",
       "    .dataframe tbody tr th:only-of-type {\n",
       "        vertical-align: middle;\n",
       "    }\n",
       "\n",
       "    .dataframe tbody tr th {\n",
       "        vertical-align: top;\n",
       "    }\n",
       "\n",
       "    .dataframe thead th {\n",
       "        text-align: right;\n",
       "    }\n",
       "</style>\n",
       "<table border=\"1\" class=\"dataframe\">\n",
       "  <thead>\n",
       "    <tr style=\"text-align: right;\">\n",
       "      <th></th>\n",
       "      <th>NAME</th>\n",
       "      <th>BIO</th>\n",
       "      <th>b_year</th>\n",
       "      <th>d_year</th>\n",
       "      <th>age</th>\n",
       "      <th>nationality</th>\n",
       "      <th>gender</th>\n",
       "      <th>burial</th>\n",
       "    </tr>\n",
       "  </thead>\n",
       "  <tbody>\n",
       "    <tr>\n",
       "      <th>749</th>\n",
       "      <td>Гельберт Абрам Григорьевич</td>\n",
       "      <td>род. 1921, в Иркутске, еврей, б/п, без определ...</td>\n",
       "      <td>1921</td>\n",
       "      <td>1937</td>\n",
       "      <td>16</td>\n",
       "      <td>еврей</td>\n",
       "      <td>м</td>\n",
       "      <td>Донское</td>\n",
       "    </tr>\n",
       "  </tbody>\n",
       "</table>\n",
       "</div>"
      ],
      "text/plain": [
       "                           NAME  \\\n",
       "749  Гельберт Абрам Григорьевич   \n",
       "\n",
       "                                                   BIO  b_year  d_year  age  \\\n",
       "749  род. 1921, в Иркутске, еврей, б/п, без определ...    1921    1937   16   \n",
       "\n",
       "    nationality gender   burial  \n",
       "749       еврей      м  Донское  "
      ]
     },
     "execution_count": 153,
     "metadata": {},
     "output_type": "execute_result"
    }
   ],
   "source": [
    "df['age'].min()\n",
    "df[df['age']==16]"
   ]
  },
  {
   "cell_type": "markdown",
   "metadata": {},
   "source": [
    "- Каков средний возраст расстрелянных?"
   ]
  },
  {
   "cell_type": "code",
   "execution_count": 157,
   "metadata": {},
   "outputs": [
    {
     "data": {
      "text/plain": [
       "43.18602086690983"
      ]
     },
     "execution_count": 157,
     "metadata": {},
     "output_type": "execute_result"
    }
   ],
   "source": [
    "df['age'].mean()"
   ]
  },
  {
   "cell_type": "markdown",
   "metadata": {},
   "source": [
    "- Каков процент русских среди расстрелянных?\n",
    "- Каков процент евреев среди расстрелянных?"
   ]
  },
  {
   "cell_type": "code",
   "execution_count": 170,
   "metadata": {},
   "outputs": [
    {
     "data": {
      "text/html": [
       "<div>\n",
       "<style scoped>\n",
       "    .dataframe tbody tr th:only-of-type {\n",
       "        vertical-align: middle;\n",
       "    }\n",
       "\n",
       "    .dataframe tbody tr th {\n",
       "        vertical-align: top;\n",
       "    }\n",
       "\n",
       "    .dataframe thead th {\n",
       "        text-align: right;\n",
       "    }\n",
       "</style>\n",
       "<table border=\"1\" class=\"dataframe\">\n",
       "  <thead>\n",
       "    <tr style=\"text-align: right;\">\n",
       "      <th></th>\n",
       "      <th>NAME</th>\n",
       "      <th>BIO</th>\n",
       "      <th>b_year</th>\n",
       "      <th>d_year</th>\n",
       "      <th>age</th>\n",
       "      <th>nationality</th>\n",
       "      <th>gender</th>\n",
       "      <th>burial</th>\n",
       "    </tr>\n",
       "  </thead>\n",
       "  <tbody>\n",
       "    <tr>\n",
       "      <th>1</th>\n",
       "      <td>Кузьмин Василий Иванович</td>\n",
       "      <td>род. 1904, Самарская губ., Бузулукский уезд, д...</td>\n",
       "      <td>1904</td>\n",
       "      <td>1938</td>\n",
       "      <td>34</td>\n",
       "      <td>русский</td>\n",
       "      <td>м</td>\n",
       "      <td>Бутово</td>\n",
       "    </tr>\n",
       "    <tr>\n",
       "      <th>2</th>\n",
       "      <td>Чернышев Илья Константинович</td>\n",
       "      <td>род. 1907, г. Харбина (Северный Китай), русски...</td>\n",
       "      <td>1907</td>\n",
       "      <td>1937</td>\n",
       "      <td>30</td>\n",
       "      <td>русский</td>\n",
       "      <td>м</td>\n",
       "      <td>Бутово</td>\n",
       "    </tr>\n",
       "    <tr>\n",
       "      <th>3</th>\n",
       "      <td>Колесникова Ксения Васильевна</td>\n",
       "      <td>род. 1899, Пензенская губ., Саранский уезд, д....</td>\n",
       "      <td>1899</td>\n",
       "      <td>1937</td>\n",
       "      <td>38</td>\n",
       "      <td>русская</td>\n",
       "      <td>ж</td>\n",
       "      <td>Бутово</td>\n",
       "    </tr>\n",
       "    <tr>\n",
       "      <th>4</th>\n",
       "      <td>Колесников Иван Михайлович</td>\n",
       "      <td>род. 1895, Воронежская обл., Новохоперский р-н...</td>\n",
       "      <td>1895</td>\n",
       "      <td>1938</td>\n",
       "      <td>43</td>\n",
       "      <td>русский</td>\n",
       "      <td>м</td>\n",
       "      <td>Бутово</td>\n",
       "    </tr>\n",
       "    <tr>\n",
       "      <th>5</th>\n",
       "      <td>Хворов Андрей Дмитриевич</td>\n",
       "      <td>род. 1886, г. Ташкент, русский, член ВКП(б), з...</td>\n",
       "      <td>1886</td>\n",
       "      <td>1938</td>\n",
       "      <td>52</td>\n",
       "      <td>русский</td>\n",
       "      <td>м</td>\n",
       "      <td>Бутово</td>\n",
       "    </tr>\n",
       "    <tr>\n",
       "      <th>...</th>\n",
       "      <td>...</td>\n",
       "      <td>...</td>\n",
       "      <td>...</td>\n",
       "      <td>...</td>\n",
       "      <td>...</td>\n",
       "      <td>...</td>\n",
       "      <td>...</td>\n",
       "      <td>...</td>\n",
       "    </tr>\n",
       "    <tr>\n",
       "      <th>11775</th>\n",
       "      <td>Максаков Яков Григорьевич</td>\n",
       "      <td>род. 1882, Западная обл., Сафоновский р-н, с. ...</td>\n",
       "      <td>1882</td>\n",
       "      <td>1937</td>\n",
       "      <td>55</td>\n",
       "      <td>русский</td>\n",
       "      <td>м</td>\n",
       "      <td>Бутово</td>\n",
       "    </tr>\n",
       "    <tr>\n",
       "      <th>11777</th>\n",
       "      <td>Новиков Михаил Никитович</td>\n",
       "      <td>род. 1906, в д.Озерово Мосальского уезда Калуж...</td>\n",
       "      <td>1906</td>\n",
       "      <td>1939</td>\n",
       "      <td>33</td>\n",
       "      <td>русский</td>\n",
       "      <td>м</td>\n",
       "      <td>Донское</td>\n",
       "    </tr>\n",
       "    <tr>\n",
       "      <th>11778</th>\n",
       "      <td>Жильцов Михаил Иванович</td>\n",
       "      <td>род. 1915, г. МОсквы, русский, б/п, завод № 20...</td>\n",
       "      <td>1915</td>\n",
       "      <td>1937</td>\n",
       "      <td>22</td>\n",
       "      <td>русский</td>\n",
       "      <td>м</td>\n",
       "      <td>Бутово</td>\n",
       "    </tr>\n",
       "    <tr>\n",
       "      <th>11781</th>\n",
       "      <td>Стрелков Аркадий Александрович</td>\n",
       "      <td>род. 1896, Тамбовская губ., г. Моршанск, русск...</td>\n",
       "      <td>1896</td>\n",
       "      <td>1938</td>\n",
       "      <td>42</td>\n",
       "      <td>русский</td>\n",
       "      <td>м</td>\n",
       "      <td>Коммунарка</td>\n",
       "    </tr>\n",
       "    <tr>\n",
       "      <th>11787</th>\n",
       "      <td>Поздеев Борис Иванович</td>\n",
       "      <td>род. 1887, г. Москва, русский, б/п, член Моско...</td>\n",
       "      <td>1887</td>\n",
       "      <td>1938</td>\n",
       "      <td>51</td>\n",
       "      <td>русский</td>\n",
       "      <td>м</td>\n",
       "      <td>Коммунарка</td>\n",
       "    </tr>\n",
       "  </tbody>\n",
       "</table>\n",
       "<p>5144 rows × 8 columns</p>\n",
       "</div>"
      ],
      "text/plain": [
       "                                 NAME  \\\n",
       "1            Кузьмин Василий Иванович   \n",
       "2        Чернышев Илья Константинович   \n",
       "3       Колесникова Ксения Васильевна   \n",
       "4          Колесников Иван Михайлович   \n",
       "5            Хворов Андрей Дмитриевич   \n",
       "...                               ...   \n",
       "11775       Максаков Яков Григорьевич   \n",
       "11777        Новиков Михаил Никитович   \n",
       "11778         Жильцов Михаил Иванович   \n",
       "11781  Стрелков Аркадий Александрович   \n",
       "11787          Поздеев Борис Иванович   \n",
       "\n",
       "                                                     BIO  b_year  d_year  age  \\\n",
       "1      род. 1904, Самарская губ., Бузулукский уезд, д...    1904    1938   34   \n",
       "2      род. 1907, г. Харбина (Северный Китай), русски...    1907    1937   30   \n",
       "3      род. 1899, Пензенская губ., Саранский уезд, д....    1899    1937   38   \n",
       "4      род. 1895, Воронежская обл., Новохоперский р-н...    1895    1938   43   \n",
       "5      род. 1886, г. Ташкент, русский, член ВКП(б), з...    1886    1938   52   \n",
       "...                                                  ...     ...     ...  ...   \n",
       "11775  род. 1882, Западная обл., Сафоновский р-н, с. ...    1882    1937   55   \n",
       "11777  род. 1906, в д.Озерово Мосальского уезда Калуж...    1906    1939   33   \n",
       "11778  род. 1915, г. МОсквы, русский, б/п, завод № 20...    1915    1937   22   \n",
       "11781  род. 1896, Тамбовская губ., г. Моршанск, русск...    1896    1938   42   \n",
       "11787  род. 1887, г. Москва, русский, б/п, член Моско...    1887    1938   51   \n",
       "\n",
       "      nationality gender      burial  \n",
       "1         русский      м      Бутово  \n",
       "2         русский      м      Бутово  \n",
       "3         русская      ж      Бутово  \n",
       "4         русский      м      Бутово  \n",
       "5         русский      м      Бутово  \n",
       "...           ...    ...         ...  \n",
       "11775     русский      м      Бутово  \n",
       "11777     русский      м     Донское  \n",
       "11778     русский      м      Бутово  \n",
       "11781     русский      м  Коммунарка  \n",
       "11787     русский      м  Коммунарка  \n",
       "\n",
       "[5144 rows x 8 columns]"
      ]
     },
     "execution_count": 170,
     "metadata": {},
     "output_type": "execute_result"
    }
   ],
   "source": [
    "df[(df['nationality']=='русский') | (df['nationality']=='русская')]"
   ]
  },
  {
   "cell_type": "code",
   "execution_count": 171,
   "metadata": {},
   "outputs": [
    {
     "data": {
      "text/html": [
       "<div>\n",
       "<style scoped>\n",
       "    .dataframe tbody tr th:only-of-type {\n",
       "        vertical-align: middle;\n",
       "    }\n",
       "\n",
       "    .dataframe tbody tr th {\n",
       "        vertical-align: top;\n",
       "    }\n",
       "\n",
       "    .dataframe thead th {\n",
       "        text-align: right;\n",
       "    }\n",
       "</style>\n",
       "<table border=\"1\" class=\"dataframe\">\n",
       "  <thead>\n",
       "    <tr style=\"text-align: right;\">\n",
       "      <th></th>\n",
       "      <th>NAME</th>\n",
       "      <th>BIO</th>\n",
       "      <th>b_year</th>\n",
       "      <th>d_year</th>\n",
       "      <th>age</th>\n",
       "      <th>nationality</th>\n",
       "      <th>gender</th>\n",
       "      <th>burial</th>\n",
       "    </tr>\n",
       "  </thead>\n",
       "  <tbody>\n",
       "    <tr>\n",
       "      <th>9</th>\n",
       "      <td>Глянц Рахмиль Моисеевич</td>\n",
       "      <td>род. 1910, Польша, г. Замостье, еврей, б/п, Ак...</td>\n",
       "      <td>1910</td>\n",
       "      <td>1937</td>\n",
       "      <td>27</td>\n",
       "      <td>еврей</td>\n",
       "      <td>м</td>\n",
       "      <td>Бутово</td>\n",
       "    </tr>\n",
       "    <tr>\n",
       "      <th>14</th>\n",
       "      <td>Юзефович Иосиф Самойлович</td>\n",
       "      <td>род. 1904, Украинская ССР, г. Полтава, еврей, ...</td>\n",
       "      <td>1904</td>\n",
       "      <td>1941</td>\n",
       "      <td>37</td>\n",
       "      <td>еврей</td>\n",
       "      <td>м</td>\n",
       "      <td>Коммунарка</td>\n",
       "    </tr>\n",
       "    <tr>\n",
       "      <th>15</th>\n",
       "      <td>Рицкий Илья Ильич</td>\n",
       "      <td>род. 1893, г. Варшава, еврей, б/п, технический...</td>\n",
       "      <td>1893</td>\n",
       "      <td>1938</td>\n",
       "      <td>45</td>\n",
       "      <td>еврей</td>\n",
       "      <td>м</td>\n",
       "      <td>Коммунарка</td>\n",
       "    </tr>\n",
       "    <tr>\n",
       "      <th>20</th>\n",
       "      <td>Пер Шая Мотхелевич</td>\n",
       "      <td>род. 1901, Латвия, г. Рига, еврей, член ВКП(б)...</td>\n",
       "      <td>1901</td>\n",
       "      <td>1938</td>\n",
       "      <td>37</td>\n",
       "      <td>еврей</td>\n",
       "      <td>м</td>\n",
       "      <td>Бутово</td>\n",
       "    </tr>\n",
       "    <tr>\n",
       "      <th>22</th>\n",
       "      <td>Маркович Борис Владимирович</td>\n",
       "      <td>род. 1901, Румыния, г. Кишинев, еврей, член ВК...</td>\n",
       "      <td>1901</td>\n",
       "      <td>1938</td>\n",
       "      <td>37</td>\n",
       "      <td>еврей</td>\n",
       "      <td>м</td>\n",
       "      <td>Бутово</td>\n",
       "    </tr>\n",
       "    <tr>\n",
       "      <th>...</th>\n",
       "      <td>...</td>\n",
       "      <td>...</td>\n",
       "      <td>...</td>\n",
       "      <td>...</td>\n",
       "      <td>...</td>\n",
       "      <td>...</td>\n",
       "      <td>...</td>\n",
       "      <td>...</td>\n",
       "    </tr>\n",
       "    <tr>\n",
       "      <th>11748</th>\n",
       "      <td>Лурье Моисей Ильич (Эмель Александр)</td>\n",
       "      <td>род. 1897, в д.Косаричи Бобруйского уезда Минс...</td>\n",
       "      <td>1897</td>\n",
       "      <td>1936</td>\n",
       "      <td>39</td>\n",
       "      <td>еврей</td>\n",
       "      <td>м</td>\n",
       "      <td>Донское</td>\n",
       "    </tr>\n",
       "    <tr>\n",
       "      <th>11754</th>\n",
       "      <td>Фрадкин Николай Ильич</td>\n",
       "      <td>род. 1905, Украинская ССР, Черниговская обл., ...</td>\n",
       "      <td>1905</td>\n",
       "      <td>1938</td>\n",
       "      <td>33</td>\n",
       "      <td>еврей</td>\n",
       "      <td>м</td>\n",
       "      <td>Бутово</td>\n",
       "    </tr>\n",
       "    <tr>\n",
       "      <th>11776</th>\n",
       "      <td>Юзефович (Шпинак) Иосиф Сигизмундович</td>\n",
       "      <td>род. 1890, в Варшаве, еврей, член ВКП(б), млад...</td>\n",
       "      <td>1890</td>\n",
       "      <td>1952</td>\n",
       "      <td>62</td>\n",
       "      <td>еврей</td>\n",
       "      <td>м</td>\n",
       "      <td>Донское</td>\n",
       "    </tr>\n",
       "    <tr>\n",
       "      <th>11780</th>\n",
       "      <td>Аронов Зигмунд-Зусман Борисович</td>\n",
       "      <td>род. 1906, г. Варшава, еврей, бывший член ВКП(...</td>\n",
       "      <td>1906</td>\n",
       "      <td>1937</td>\n",
       "      <td>31</td>\n",
       "      <td>еврей</td>\n",
       "      <td>м</td>\n",
       "      <td>Бутово</td>\n",
       "    </tr>\n",
       "    <tr>\n",
       "      <th>11782</th>\n",
       "      <td>Гольдштейн Бернард Абрамович</td>\n",
       "      <td>род. 1903, Польша, г. Самбор, польский еврей, ...</td>\n",
       "      <td>1903</td>\n",
       "      <td>1937</td>\n",
       "      <td>34</td>\n",
       "      <td>еврей</td>\n",
       "      <td>м</td>\n",
       "      <td>Бутово</td>\n",
       "    </tr>\n",
       "  </tbody>\n",
       "</table>\n",
       "<p>2216 rows × 8 columns</p>\n",
       "</div>"
      ],
      "text/plain": [
       "                                        NAME  \\\n",
       "9                    Глянц Рахмиль Моисеевич   \n",
       "14                 Юзефович Иосиф Самойлович   \n",
       "15                         Рицкий Илья Ильич   \n",
       "20                        Пер Шая Мотхелевич   \n",
       "22               Маркович Борис Владимирович   \n",
       "...                                      ...   \n",
       "11748   Лурье Моисей Ильич (Эмель Александр)   \n",
       "11754                  Фрадкин Николай Ильич   \n",
       "11776  Юзефович (Шпинак) Иосиф Сигизмундович   \n",
       "11780        Аронов Зигмунд-Зусман Борисович   \n",
       "11782           Гольдштейн Бернард Абрамович   \n",
       "\n",
       "                                                     BIO  b_year  d_year  age  \\\n",
       "9      род. 1910, Польша, г. Замостье, еврей, б/п, Ак...    1910    1937   27   \n",
       "14     род. 1904, Украинская ССР, г. Полтава, еврей, ...    1904    1941   37   \n",
       "15     род. 1893, г. Варшава, еврей, б/п, технический...    1893    1938   45   \n",
       "20     род. 1901, Латвия, г. Рига, еврей, член ВКП(б)...    1901    1938   37   \n",
       "22     род. 1901, Румыния, г. Кишинев, еврей, член ВК...    1901    1938   37   \n",
       "...                                                  ...     ...     ...  ...   \n",
       "11748  род. 1897, в д.Косаричи Бобруйского уезда Минс...    1897    1936   39   \n",
       "11754  род. 1905, Украинская ССР, Черниговская обл., ...    1905    1938   33   \n",
       "11776  род. 1890, в Варшаве, еврей, член ВКП(б), млад...    1890    1952   62   \n",
       "11780  род. 1906, г. Варшава, еврей, бывший член ВКП(...    1906    1937   31   \n",
       "11782  род. 1903, Польша, г. Самбор, польский еврей, ...    1903    1937   34   \n",
       "\n",
       "      nationality gender      burial  \n",
       "9           еврей      м      Бутово  \n",
       "14          еврей      м  Коммунарка  \n",
       "15          еврей      м  Коммунарка  \n",
       "20          еврей      м      Бутово  \n",
       "22          еврей      м      Бутово  \n",
       "...           ...    ...         ...  \n",
       "11748       еврей      м     Донское  \n",
       "11754       еврей      м      Бутово  \n",
       "11776       еврей      м     Донское  \n",
       "11780       еврей      м      Бутово  \n",
       "11782       еврей      м      Бутово  \n",
       "\n",
       "[2216 rows x 8 columns]"
      ]
     },
     "execution_count": 171,
     "metadata": {},
     "output_type": "execute_result"
    }
   ],
   "source": [
    "df[(df['nationality']=='еврей') | (df['nationality']=='еврейка')]"
   ]
  },
  {
   "cell_type": "code",
   "execution_count": 172,
   "metadata": {},
   "outputs": [
    {
     "name": "stdout",
     "output_type": "stream",
     "text": [
      "% русских: 43.6\n",
      "% евреев: 18.8\n"
     ]
    }
   ],
   "source": [
    "print(f'% русских: {round((5144/11789)*100, 1)}')\n",
    "print(f'% евреев: {round((2216/11789)*100, 1)}')"
   ]
  },
  {
   "cell_type": "markdown",
   "metadata": {},
   "source": [
    "- Где больше всего захоронений репрессированных? (с указанием количества захоронений)"
   ]
  },
  {
   "cell_type": "code",
   "execution_count": 154,
   "metadata": {},
   "outputs": [
    {
     "data": {
      "text/plain": [
       "Бутово           5048\n",
       "Коммунарка       3675\n",
       "Донское          2465\n",
       "Ваганьковское     549\n",
       "Яузская            52\n",
       "Name: burial, dtype: int64"
      ]
     },
     "execution_count": 154,
     "metadata": {},
     "output_type": "execute_result"
    }
   ],
   "source": [
    "df['burial'].value_counts()"
   ]
  }
 ],
 "metadata": {
  "interpreter": {
   "hash": "a5edaf6ccdbeff1765c5a88ed9e790b3671ce3e29c2038c84f8e7cb08159d6f5"
  },
  "kernelspec": {
   "display_name": "Python 3.10.4 ('scrap': venv)",
   "language": "python",
   "name": "python3"
  },
  "language_info": {
   "codemirror_mode": {
    "name": "ipython",
    "version": 3
   },
   "file_extension": ".py",
   "mimetype": "text/x-python",
   "name": "python",
   "nbconvert_exporter": "python",
   "pygments_lexer": "ipython3",
   "version": "3.10.4"
  },
  "orig_nbformat": 4
 },
 "nbformat": 4,
 "nbformat_minor": 2
}
