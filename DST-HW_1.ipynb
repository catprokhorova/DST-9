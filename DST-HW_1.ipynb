{
 "cells": [
  {
   "cell_type": "markdown",
   "metadata": {
    "collapsed": true
   },
   "source": [
    "Ваша отправная точка — эта страница: https://www.hse.ru/org/persons/?ltr=%D0%90;udept=22726.\n",
    "Это список преподавателей и сотрудников НИУ ВШЭ, чьи фамилии начинаются на букву \"А\".\n",
    "Вам нужно сначала собрать для каждого из них имя, кем работает и где, контакты (телефон, имейл), а также ссылку на страничку.\n",
    "\n",
    "Вторым туром вы проходитесь по каждой ссылке на преподавателя и достаете строчку, в которой говорится, в каком году человек начал работать в НИУ ВШЭ.\n",
    "\n",
    "\n",
    "На примере первого человека — Абакумова Ани Васпуровна\n",
    "\n",
    "\n",
    "После первой части работы у вас должно быть собрано: [Абакумова Ани Васпуровна, Тьютор, \tШкола иностранных языков, +7 (915) 012-10-89, aabakumova@hse.ru, https://www.hse.ru/org/persons/224839542]\n",
    "\n",
    "\n",
    "После второго к этому списку добавляется \"Начала работать в НИУ ВШЭ в 2018 году.\"\n",
    "\n",
    "То есть, в итоге у вас на каждого человека получится такая строчка:\n",
    "\n",
    "[Абакумова Ани Васпуровна, Тьютор, Школа иностранных языков, +7 (915) 012-10-89, aabakumova@hse.ru, https://www.hse.ru/org/persons/224839542, \"Начала работать в НИУ ВШЭ в 2018 году.\"]\n",
    "\n",
    "Сдать вам нужно будет табличку в csv и тетрадку с кодом, запустив который, я получу это табличку.\n"
   ]
  },
  {
   "cell_type": "code",
   "execution_count": 79,
   "metadata": {
    "collapsed": true
   },
   "outputs": [],
   "source": [
    "#импортируйте библиотеки\n",
    "\n",
    "import requests #чтобы получать код страница сайта\n",
    "from bs4 import BeautifulSoup #чтобы \"ходить\" по тэгам,доставать нужную нам информацию\n",
    "import pandas as pd #для работы с таблицами и файлами\n",
    "from time import sleep\n",
    "import csv #с помощью этой библиотеки тоже можно открывать и записывать файлы\n",
    "from pprint import pprint\n",
    "from numpy import NaN"
   ]
  },
  {
   "cell_type": "code",
   "execution_count": 92,
   "metadata": {},
   "outputs": [],
   "source": [
    "def get_career(link):\n",
    "    response=requests.get(link)\n",
    "    soup=BeautifulSoup(response.text)\n",
    "    career=soup.find('ul', 'person-employment-addition')\n",
    "    if career:\n",
    "        res=career.find('li', 'i').text\n",
    "    else:\n",
    "        res=NaN\n",
    "    return res"
   ]
  },
  {
   "cell_type": "code",
   "execution_count": 94,
   "metadata": {},
   "outputs": [],
   "source": [
    "def tutors():\n",
    "    url='https://www.hse.ru/org/persons/?ltr=%D0%90;udept=22726'\n",
    "    headers={'user-agent': 'Mozilla/5.0 (Windows NT 10.0; Win64; x64) AppleWebKit/537.36 (KHTML, like Gecko) Chrome/100.0.4896.127 Safari/537.36'}\n",
    "    response=requests.get(url=url, headers=headers)\n",
    "    soup=BeautifulSoup(response.text)\n",
    "    tutors=soup.find_all('div', 'post__content_person')\n",
    "    tutors_df = pd.DataFrame()\n",
    "    for tutor in tutors:\n",
    "        link_name=tutor.find('a', 'link_dark')\n",
    "        name=link_name.text.strip()\n",
    "        title=tutor.find('p', 'with-indent7').text.replace('\\n', ' ').replace('\\t', '').strip()\n",
    "        contact=tutor.find('div', 'l-extra')\n",
    "        link='https://www.hse.ru' + link_name.get('href')\n",
    "        if contact:\n",
    "            contact=contact.text.strip()\n",
    "        else:\n",
    "            contact=NaN\n",
    "        # sleep(0.03)\n",
    "        career=get_career(link)\n",
    "        df_row = {'name': name, 'title': title, 'contact': contact, 'link': link, 'career': career}\n",
    "        tutors_df = pd.concat([tutors_df, pd.DataFrame([df_row])])\n",
    "    return tutors_df"
   ]
  },
  {
   "cell_type": "code",
   "execution_count": 96,
   "metadata": {},
   "outputs": [],
   "source": [
    "df=tutors()"
   ]
  },
  {
   "cell_type": "code",
   "execution_count": 98,
   "metadata": {
    "collapsed": true
   },
   "outputs": [],
   "source": [
    "df.to_csv('tutors_info.csv', index=False)"
   ]
  }
 ],
 "metadata": {
  "anaconda-cloud": {},
  "kernelspec": {
   "display_name": "Python 3",
   "language": "python",
   "name": "python3"
  },
  "language_info": {
   "codemirror_mode": {
    "name": "ipython",
    "version": 3
   },
   "file_extension": ".py",
   "mimetype": "text/x-python",
   "name": "python",
   "nbconvert_exporter": "python",
   "pygments_lexer": "ipython3",
   "version": "3.10.4"
  }
 },
 "nbformat": 4,
 "nbformat_minor": 1
}
