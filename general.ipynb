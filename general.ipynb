{
 "cells": [
  {
   "cell_type": "code",
   "execution_count": 2,
   "metadata": {},
   "outputs": [],
   "source": [
    "import json"
   ]
  },
  {
   "cell_type": "code",
   "execution_count": 21,
   "metadata": {},
   "outputs": [
    {
     "data": {
      "text/plain": [
       "{0: ['Начальник  полиции', ''],\n",
       " 1: ['лично позвонил в шестнадцатый участок. А спустя  одну минуту тридцать секунд',\n",
       "  ''],\n",
       " 2: ['в дежурке и других комнатах нижнего этажа раздались звонки', ''],\n",
       " 3: ['     Когда Иенсен  --  комиссар  шестнадцатого  участка --  вышел  из своего',\n",
       "  ''],\n",
       " 4: ['кабинета,  звонки еще  не смолкли. Иенсен был мужчина средних лет,  обычного',\n",
       "  ''],\n",
       " 5: ['сложения, с лицом плоским и невыразительным. На последней ступеньке винтовой',\n",
       "  ''],\n",
       " 6: ['лестницы  он задержался  и  обвел взглядом помещение дежурки. Затем поправил',\n",
       "  ''],\n",
       " 7: ['галстук и проследовал к машине.']}"
      ]
     },
     "execution_count": 21,
     "metadata": {},
     "output_type": "execute_result"
    }
   ],
   "source": [
    "file_1 = {}\n",
    "with open('1.txt', 'r', encoding='UTF-8') as f:\n",
    "    for count, line in enumerate(f):\n",
    "        line = line.split('\\n')\n",
    "        file_1[count] = line\n",
    "file_1\n"
   ]
  },
  {
   "cell_type": "code",
   "execution_count": null,
   "metadata": {},
   "outputs": [],
   "source": []
  }
 ],
 "metadata": {
  "kernelspec": {
   "display_name": "Python 3.10.5 ('scrap': venv)",
   "language": "python",
   "name": "python3"
  },
  "language_info": {
   "codemirror_mode": {
    "name": "ipython",
    "version": 3
   },
   "file_extension": ".py",
   "mimetype": "text/x-python",
   "name": "python",
   "nbconvert_exporter": "python",
   "pygments_lexer": "ipython3",
   "version": "3.10.6"
  },
  "orig_nbformat": 4,
  "vscode": {
   "interpreter": {
    "hash": "a5edaf6ccdbeff1765c5a88ed9e790b3671ce3e29c2038c84f8e7cb08159d6f5"
   }
  }
 },
 "nbformat": 4,
 "nbformat_minor": 2
}
